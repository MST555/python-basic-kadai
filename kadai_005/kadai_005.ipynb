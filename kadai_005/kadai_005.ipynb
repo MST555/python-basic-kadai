{
  "nbformat": 4,
  "nbformat_minor": 0,
  "metadata": {
    "colab": {
      "provenance": [],
      "gpuType": "T4"
    },
    "kernelspec": {
      "name": "python3",
      "display_name": "Python 3"
    },
    "language_info": {
      "name": "python"
    },
    "accelerator": "GPU"
  },
  "cells": [
    {
      "cell_type": "code",
      "execution_count": 9,
      "metadata": {
        "colab": {
          "base_uri": "https://localhost:8080/"
        },
        "id": "e5f7EBNM9sRN",
        "outputId": "541ca391-1e17-4ee9-b697-8432f2606558"
      },
      "outputs": [
        {
          "output_type": "stream",
          "name": "stdout",
          "text": [
            "75.0㎝²\n"
          ]
        }
      ],
      "source": [
        "jouhen = 10\n",
        "kahen = 20\n",
        "takasa = 5\n",
        "daikei_menseki = (jouhen + kahen) * takasa / 2\n",
        "print(f\"{daikei_menseki}㎝²\")"
      ]
    }
  ]
}