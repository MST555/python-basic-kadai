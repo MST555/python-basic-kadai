{
  "nbformat": 4,
  "nbformat_minor": 0,
  "metadata": {
    "colab": {
      "provenance": []
    },
    "kernelspec": {
      "name": "python3",
      "display_name": "Python 3"
    },
    "language_info": {
      "name": "python"
    }
  },
  "cells": [
    {
      "cell_type": "code",
      "execution_count": 2,
      "metadata": {
        "colab": {
          "base_uri": "https://localhost:8080/"
        },
        "id": "S-5CAfCw6_9l",
        "outputId": "e3744d00-1b3e-4b12-bf45-db7d374c66e5"
      },
      "outputs": [
        {
          "output_type": "stream",
          "name": "stdout",
          "text": [
            "巧は大人ではありません\n",
            "勇治は大人です\n",
            "真理は大人ではありません\n",
            "啓太郎は大人です\n",
            "雅人は大人です\n",
            "結花は大人ではありません\n",
            "直也は大人です\n"
          ]
        }
      ],
      "source": [
        "class Human:\n",
        "  def __init__(self, name, age):\n",
        "    self.name = name\n",
        "    self.age = age\n",
        "  def check_adult(self):\n",
        "    if self.age >= 20:\n",
        "      hantei = self.name + \"は大人です\"\n",
        "    else:\n",
        "      hantei = self.name + \"は大人ではありません\"\n",
        "    print(hantei)\n",
        "\n",
        "Characters = [Human(\"巧\",18), Human(\"勇治\",21), Human(\"真理\",16), Human(\"啓太郎\",21), Human(\"雅人\",21), Human(\"結花\",17), Human(\"直也\",23)]\n",
        "for Character in Characters:\n",
        "  Character.check_adult()"
      ]
    }
  ]
}