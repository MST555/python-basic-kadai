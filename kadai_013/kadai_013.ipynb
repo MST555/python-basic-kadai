{
  "nbformat": 4,
  "nbformat_minor": 0,
  "metadata": {
    "colab": {
      "provenance": []
    },
    "kernelspec": {
      "name": "python3",
      "display_name": "Python 3"
    },
    "language_info": {
      "name": "python"
    }
  },
  "cells": [
    {
      "cell_type": "code",
      "execution_count": 4,
      "metadata": {
        "colab": {
          "base_uri": "https://localhost:8080/"
        },
        "id": "CoQig2erFqab",
        "outputId": "3e1acf8f-745f-46b0-e1e0-f7353922e62b"
      },
      "outputs": [
        {
          "output_type": "stream",
          "name": "stdout",
          "text": [
            "121.0\n"
          ]
        }
      ],
      "source": [
        "def zei_komi(kingaku, zeiritsu) -> float:\n",
        "  return kingaku + kingaku * zeiritsu / 100\n",
        "print(zei_komi(110,10))"
      ]
    }
  ]
}